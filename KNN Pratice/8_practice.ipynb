{
 "cells": [
  {
   "cell_type": "code",
   "execution_count": 7,
   "metadata": {},
   "outputs": [
    {
     "name": "stdout",
     "output_type": "stream",
     "text": [
      "Defaulting to user installation because normal site-packages is not writeable\n",
      "Requirement already satisfied: scikit-learn in c:\\users\\eapla\\appdata\\roaming\\python\\python37\\site-packages (1.0.2)\n",
      "Requirement already satisfied: joblib>=0.11 in c:\\users\\eapla\\appdata\\roaming\\python\\python37\\site-packages (from scikit-learn) (1.3.2)\n",
      "Requirement already satisfied: threadpoolctl>=2.0.0 in c:\\users\\eapla\\appdata\\roaming\\python\\python37\\site-packages (from scikit-learn) (3.1.0)\n",
      "Requirement already satisfied: numpy>=1.14.6 in c:\\users\\eapla\\appdata\\roaming\\python\\python37\\site-packages (from scikit-learn) (1.21.6)\n",
      "Requirement already satisfied: scipy>=1.1.0 in c:\\users\\eapla\\appdata\\roaming\\python\\python37\\site-packages (from scikit-learn) (1.7.3)\n",
      "Note: you may need to restart the kernel to use updated packages.\n"
     ]
    },
    {
     "name": "stderr",
     "output_type": "stream",
     "text": [
      "WARNING: You are using pip version 20.1.1; however, version 24.0 is available.\n",
      "You should consider upgrading via the 'd:\\Program Files (x86)\\Microsoft Visual Studio\\Shared\\Python37_64\\python.exe -m pip install --upgrade pip' command.\n"
     ]
    }
   ],
   "source": [
    "%pip install scikit-learn"
   ]
  },
  {
   "cell_type": "code",
   "execution_count": 7,
   "metadata": {},
   "outputs": [
    {
     "name": "stdout",
     "output_type": "stream",
     "text": [
      "   fixed acidity  volatile acidity  citric acid  residual sugar  chlorides  \\\n",
      "0            7.4              0.70         0.00             1.9      0.076   \n",
      "1            7.8              0.88         0.00             2.6      0.098   \n",
      "2            7.8              0.76         0.04             2.3      0.092   \n",
      "3           11.2              0.28         0.56             1.9      0.075   \n",
      "4            7.4              0.70         0.00             1.9      0.076   \n",
      "\n",
      "   free sulfur dioxide  total sulfur dioxide  density    pH  sulphates  \\\n",
      "0                 11.0                  34.0   0.9978  3.51       0.56   \n",
      "1                 25.0                  67.0   0.9968  3.20       0.68   \n",
      "2                 15.0                  54.0   0.9970  3.26       0.65   \n",
      "3                 17.0                  60.0   0.9980  3.16       0.58   \n",
      "4                 11.0                  34.0   0.9978  3.51       0.56   \n",
      "\n",
      "   alcohol  quality  \n",
      "0      9.4        5  \n",
      "1      9.8        5  \n",
      "2      9.8        5  \n",
      "3      9.8        6  \n",
      "4      9.4        5  \n"
     ]
    }
   ],
   "source": [
    "import pandas as pd\n",
    "\n",
    "from sklearn.neighbors import KNeighborsRegressor # this is used when target is continuous\n",
    "from sklearn.neighbors import KNeighborsClassifier\n",
    "from sklearn.model_selection import train_test_split\n",
    "import matplotlib.pyplot as plt\n",
    "from sklearn.preprocessing import StandardScaler\n",
    "from sklearn.metrics import mean_squared_error, mean_absolute_error\n",
    "\n",
    "\n",
    "url = \"https://archive.ics.uci.edu/ml/machine-learning-databases/wine-quality/winequality-red.csv\"\n",
    "wine_df = pd.read_csv(url, delimiter=\";\")\n",
    "print(wine_df.head())"
   ]
  },
  {
   "cell_type": "markdown",
   "metadata": {},
   "source": [
    "Use this data set, train a KNN model to make predictions.   \n",
    "\n",
    "Target is \"quality\" （numeric） all other variables are indepedent variables. \n",
    "  \n",
    "1. Use 70% data in the training set.  \n",
    "\n",
    "2. random_state=40\n",
    "\n",
    "3. Use k=7\n",
    "\n",
    "\n"
   ]
  },
  {
   "cell_type": "code",
   "execution_count": 2,
   "metadata": {},
   "outputs": [],
   "source": [
    "\n",
    "wine_df = wine_df.dropna()"
   ]
  },
  {
   "cell_type": "code",
   "execution_count": 4,
   "metadata": {},
   "outputs": [],
   "source": [
    "X = wine_df.iloc[:, 0:11]\n",
    "Y = wine_df.iloc[:, 11]"
   ]
  },
  {
   "cell_type": "code",
   "execution_count": 13,
   "metadata": {},
   "outputs": [],
   "source": [
    "split_data=train_test_split(X, Y, test_size=0.3, random_state=40) \n",
    "X_train, X_test, y_train, y_test = split_data"
   ]
  },
  {
   "cell_type": "code",
   "execution_count": 14,
   "metadata": {},
   "outputs": [
    {
     "data": {
      "text/plain": [
       "KNeighborsClassifier(n_neighbors=7)"
      ]
     },
     "execution_count": 14,
     "metadata": {},
     "output_type": "execute_result"
    }
   ],
   "source": [
    "m1 = KNeighborsClassifier(n_neighbors=7) #This creates the model but does not train it yet.\n",
    "\n",
    "m1.fit(X_train, y_train)\n"
   ]
  },
  {
   "cell_type": "code",
   "execution_count": 15,
   "metadata": {},
   "outputs": [],
   "source": [
    "prediction = m1.predict(X_test)"
   ]
  },
  {
   "cell_type": "code",
   "execution_count": 16,
   "metadata": {},
   "outputs": [
    {
     "name": "stdout",
     "output_type": "stream",
     "text": [
      "[5 5 5 5 5 5 6 6 5 6 5 6 5 6 5 6 6 5 5 5 6 5 5 5 6 6 6 5 6 5 5 6 6 5 5 6 7\n",
      " 6 6 6 5 6 6 6 6 6 5 7 6 5 6 5 5 6 6 5 6 6 6 6 7 5 5 5 5 6 6 6 6 7 6 5 6 5\n",
      " 5 5 5 5 6 6 6 7 5 5 6 5 6 5 6 5 5 6 6 5 5 5 5 6 5 6 5 6 6 6 6 6 7 6 5 6 6\n",
      " 6 5 6 5 6 5 6 6 5 5 6 5 6 6 6 6 6 6 6 5 5 6 5 5 5 5 5 5 5 6 6 5 5 7 5 5 6\n",
      " 7 6 5 6 5 6 6 5 5 6 5 6 5 5 6 5 6 5 5 5 6 6 5 5 5 5 5 6 5 5 5 6 6 6 5 5 5\n",
      " 6 6 6 6 7 5 5 5 5 6 5 6 6 6 6 5 5 6 6 6 5 5 6 7 6 7 6 5 6 6 5 6 5 6 5 6 5\n",
      " 5 6 6 5 6 5 5 5 6 6 6 6 6 6 7 5 7 6 6 7 5 5 6 6 7 5 5 5 5 5 6 5 5 6 6 5 5\n",
      " 5 5 5 5 5 6 6 6 5 5 5 5 5 5 6 5 5 6 6 5 5 6 6 6 5 6 6 5 6 6 6 6 6 6 5 6 6\n",
      " 5 5 5 5 6 6 7 5 5 5 5 7 7 5 6 6 6 5 6 6 6 5 7 5 5 6 5 6 6 5 6 6 6 5 5 6 7\n",
      " 6 6 6 5 5 5 6 6 6 5 5 5 5 7 5 7 5 5 5 5 5 5 5 7 5 5 6 5 5 5 5 5 5 5 6 6 5\n",
      " 6 6 5 5 6 7 5 5 5 5 5 6 6 5 5 5 5 5 4 5 6 5 6 5 6 5 5 6 5 5 5 6 6 5 5 5 6\n",
      " 7 5 5 5 6 7 7 5 6 7 6 6 5 5 5 6 7 6 6 7 6 5 5 5 5 7 5 5 6 6 6 5 4 5 5 6 6\n",
      " 4 6 6 5 6 5 5 5 5 6 5 6 5 5 5 6 5 6 6 5 6 5 5 5 6 6 6 6 6 7 5 5 5 6 5 6]\n"
     ]
    }
   ],
   "source": [
    "print(prediction) #print out the predicted values"
   ]
  },
  {
   "cell_type": "code",
   "execution_count": 17,
   "metadata": {},
   "outputs": [
    {
     "data": {
      "text/plain": [
       "0.50625"
      ]
     },
     "execution_count": 17,
     "metadata": {},
     "output_type": "execute_result"
    }
   ],
   "source": [
    "\n",
    "\n",
    "from sklearn.metrics import accuracy_score\n",
    "\n",
    "accuracy_score(y_test, prediction)"
   ]
  }
 ],
 "metadata": {
  "kernelspec": {
   "display_name": "Python 3",
   "language": "python",
   "name": "python3"
  },
  "language_info": {
   "codemirror_mode": {
    "name": "ipython",
    "version": 3
   },
   "file_extension": ".py",
   "mimetype": "text/x-python",
   "name": "python",
   "nbconvert_exporter": "python",
   "pygments_lexer": "ipython3",
   "version": "3.7.8"
  }
 },
 "nbformat": 4,
 "nbformat_minor": 2
}
